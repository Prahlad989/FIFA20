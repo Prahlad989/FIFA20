{
 "cells": [
  {
   "cell_type": "code",
   "execution_count": 1,
   "metadata": {
    "_cell_guid": "b1076dfc-b9ad-4769-8c92-a6c4dae69d19",
    "_uuid": "8f2839f25d086af736a60e9eeb907d3b93b6e0e5",
    "execution": {
     "iopub.execute_input": "2021-03-11T19:15:28.188077Z",
     "iopub.status.busy": "2021-03-11T19:15:28.187434Z",
     "iopub.status.idle": "2021-03-11T19:15:28.201817Z",
     "shell.execute_reply": "2021-03-11T19:15:28.202292Z"
    },
    "papermill": {
     "duration": 0.034979,
     "end_time": "2021-03-11T19:15:28.202632",
     "exception": false,
     "start_time": "2021-03-11T19:15:28.167653",
     "status": "completed"
    },
    "tags": []
   },
   "outputs": [
    {
     "name": "stdout",
     "output_type": "stream",
     "text": [
      "/kaggle/input/players-20/players_20.csv\n"
     ]
    }
   ],
   "source": [
    "# This Python 3 environment comes with many helpful analytics libraries installed\n",
    "# It is defined by the kaggle/python Docker image: https://github.com/kaggle/docker-python\n",
    "# For example, here's several helpful packages to load\n",
    "\n",
    "import numpy as np # linear algebra\n",
    "import pandas as pd # data processing, CSV file I/O (e.g. pd.read_csv)\n",
    "\n",
    "# Input data files are available in the read-only \"../input/\" directory\n",
    "# For example, running this (by clicking run or pressing Shift+Enter) will list all files under the input directory\n",
    "\n",
    "import os\n",
    "for dirname, _, filenames in os.walk('/kaggle/input'):\n",
    "    for filename in filenames:\n",
    "        print(os.path.join(dirname, filename))\n",
    "\n",
    "# You can write up to 20GB to the current directory (/kaggle/working/) that gets preserved as output when you create a version using \"Save & Run All\" \n",
    "# You can also write temporary files to /kaggle/temp/, but they won't be saved outside of the current session"
   ]
  },
  {
   "cell_type": "markdown",
   "metadata": {
    "papermill": {
     "duration": 0.012638,
     "end_time": "2021-03-11T19:15:28.229156",
     "exception": false,
     "start_time": "2021-03-11T19:15:28.216518",
     "status": "completed"
    },
    "tags": []
   },
   "source": [
    "#  **Data Preprocessing**"
   ]
  },
  {
   "cell_type": "code",
   "execution_count": 2,
   "metadata": {
    "execution": {
     "iopub.execute_input": "2021-03-11T19:15:28.262268Z",
     "iopub.status.busy": "2021-03-11T19:15:28.258048Z",
     "iopub.status.idle": "2021-03-11T19:15:29.263356Z",
     "shell.execute_reply": "2021-03-11T19:15:29.262796Z"
    },
    "papermill": {
     "duration": 1.021339,
     "end_time": "2021-03-11T19:15:29.263518",
     "exception": false,
     "start_time": "2021-03-11T19:15:28.242179",
     "status": "completed"
    },
    "tags": []
   },
   "outputs": [],
   "source": [
    "import numpy as np # linear algebra\n",
    "import pandas as pd # data processing, CSV file I/O (e.g. pd.read_csv)\n",
    "import matplotlib.pyplot as plt\n",
    "%matplotlib inline\n",
    "from math import pi #Used in Radar Plots\n",
    "import seaborn as sns\n",
    "sns.set_style(style='darkgrid')\n",
    "import warnings\n",
    "warnings.filterwarnings('ignore')"
   ]
  },
  {
   "cell_type": "code",
   "execution_count": 3,
   "metadata": {
    "execution": {
     "iopub.execute_input": "2021-03-11T19:15:29.295119Z",
     "iopub.status.busy": "2021-03-11T19:15:29.293126Z",
     "iopub.status.idle": "2021-03-11T19:15:29.742261Z",
     "shell.execute_reply": "2021-03-11T19:15:29.741802Z"
    },
    "papermill": {
     "duration": 0.46549,
     "end_time": "2021-03-11T19:15:29.742431",
     "exception": false,
     "start_time": "2021-03-11T19:15:29.276941",
     "status": "completed"
    },
    "tags": []
   },
   "outputs": [
    {
     "data": {
      "text/plain": [
       "(18278, 104)"
      ]
     },
     "execution_count": 3,
     "metadata": {},
     "output_type": "execute_result"
    }
   ],
   "source": [
    "fifatest=pd.read_csv(\"../input/players-20/players_20.csv\")\n",
    "fifatest.shape"
   ]
  },
  {
   "cell_type": "code",
   "execution_count": 4,
   "metadata": {
    "execution": {
     "iopub.execute_input": "2021-03-11T19:15:29.782399Z",
     "iopub.status.busy": "2021-03-11T19:15:29.781719Z",
     "iopub.status.idle": "2021-03-11T19:15:29.858988Z",
     "shell.execute_reply": "2021-03-11T19:15:29.858400Z"
    },
    "papermill": {
     "duration": 0.103042,
     "end_time": "2021-03-11T19:15:29.859132",
     "exception": false,
     "start_time": "2021-03-11T19:15:29.756090",
     "status": "completed"
    },
    "tags": []
   },
   "outputs": [
    {
     "data": {
      "text/html": [
       "<div>\n",
       "<style scoped>\n",
       "    .dataframe tbody tr th:only-of-type {\n",
       "        vertical-align: middle;\n",
       "    }\n",
       "\n",
       "    .dataframe tbody tr th {\n",
       "        vertical-align: top;\n",
       "    }\n",
       "\n",
       "    .dataframe thead th {\n",
       "        text-align: right;\n",
       "    }\n",
       "</style>\n",
       "<table border=\"1\" class=\"dataframe\">\n",
       "  <thead>\n",
       "    <tr style=\"text-align: right;\">\n",
       "      <th></th>\n",
       "      <th>sofifa_id</th>\n",
       "      <th>player_url</th>\n",
       "      <th>short_name</th>\n",
       "      <th>long_name</th>\n",
       "      <th>age</th>\n",
       "      <th>dob</th>\n",
       "      <th>height_cm</th>\n",
       "      <th>weight_kg</th>\n",
       "      <th>nationality</th>\n",
       "      <th>club</th>\n",
       "      <th>overall</th>\n",
       "      <th>potential</th>\n",
       "      <th>value_eur</th>\n",
       "      <th>wage_eur</th>\n",
       "      <th>player_positions</th>\n",
       "      <th>preferred_foot</th>\n",
       "      <th>international_reputation</th>\n",
       "      <th>weak_foot</th>\n",
       "      <th>skill_moves</th>\n",
       "      <th>work_rate</th>\n",
       "      <th>body_type</th>\n",
       "      <th>real_face</th>\n",
       "      <th>release_clause_eur</th>\n",
       "      <th>player_tags</th>\n",
       "      <th>team_position</th>\n",
       "      <th>team_jersey_number</th>\n",
       "      <th>loaned_from</th>\n",
       "      <th>joined</th>\n",
       "      <th>contract_valid_until</th>\n",
       "      <th>nation_position</th>\n",
       "      <th>nation_jersey_number</th>\n",
       "      <th>pace</th>\n",
       "      <th>shooting</th>\n",
       "      <th>passing</th>\n",
       "      <th>dribbling</th>\n",
       "      <th>defending</th>\n",
       "      <th>physic</th>\n",
       "      <th>gk_diving</th>\n",
       "      <th>gk_handling</th>\n",
       "      <th>gk_kicking</th>\n",
       "      <th>gk_reflexes</th>\n",
       "      <th>gk_speed</th>\n",
       "      <th>gk_positioning</th>\n",
       "      <th>player_traits</th>\n",
       "      <th>attacking_crossing</th>\n",
       "      <th>attacking_finishing</th>\n",
       "      <th>attacking_heading_accuracy</th>\n",
       "      <th>attacking_short_passing</th>\n",
       "      <th>attacking_volleys</th>\n",
       "      <th>skill_dribbling</th>\n",
       "      <th>skill_curve</th>\n",
       "      <th>skill_fk_accuracy</th>\n",
       "      <th>skill_long_passing</th>\n",
       "      <th>skill_ball_control</th>\n",
       "      <th>movement_acceleration</th>\n",
       "      <th>movement_sprint_speed</th>\n",
       "      <th>movement_agility</th>\n",
       "      <th>movement_reactions</th>\n",
       "      <th>movement_balance</th>\n",
       "      <th>power_shot_power</th>\n",
       "      <th>power_jumping</th>\n",
       "      <th>power_stamina</th>\n",
       "      <th>power_strength</th>\n",
       "      <th>power_long_shots</th>\n",
       "      <th>mentality_aggression</th>\n",
       "      <th>mentality_interceptions</th>\n",
       "      <th>mentality_positioning</th>\n",
       "      <th>mentality_vision</th>\n",
       "      <th>mentality_penalties</th>\n",
       "      <th>mentality_composure</th>\n",
       "      <th>defending_marking</th>\n",
       "      <th>defending_standing_tackle</th>\n",
       "      <th>defending_sliding_tackle</th>\n",
       "      <th>goalkeeping_diving</th>\n",
       "      <th>goalkeeping_handling</th>\n",
       "      <th>goalkeeping_kicking</th>\n",
       "      <th>goalkeeping_positioning</th>\n",
       "      <th>goalkeeping_reflexes</th>\n",
       "      <th>ls</th>\n",
       "      <th>st</th>\n",
       "      <th>rs</th>\n",
       "      <th>lw</th>\n",
       "      <th>lf</th>\n",
       "      <th>cf</th>\n",
       "      <th>rf</th>\n",
       "      <th>rw</th>\n",
       "      <th>lam</th>\n",
       "      <th>cam</th>\n",
       "      <th>ram</th>\n",
       "      <th>lm</th>\n",
       "      <th>lcm</th>\n",
       "      <th>cm</th>\n",
       "      <th>rcm</th>\n",
       "      <th>rm</th>\n",
       "      <th>lwb</th>\n",
       "      <th>ldm</th>\n",
       "      <th>cdm</th>\n",
       "      <th>rdm</th>\n",
       "      <th>rwb</th>\n",
       "      <th>lb</th>\n",
       "      <th>lcb</th>\n",
       "      <th>cb</th>\n",
       "      <th>rcb</th>\n",
       "      <th>rb</th>\n",
       "    </tr>\n",
       "  </thead>\n",
       "  <tbody>\n",
       "    <tr>\n",
       "      <th>0</th>\n",
       "      <td>158023</td>\n",
       "      <td>https://sofifa.com/player/158023/lionel-messi/...</td>\n",
       "      <td>L. Messi</td>\n",
       "      <td>Lionel Andrés Messi Cuccittini</td>\n",
       "      <td>32</td>\n",
       "      <td>1987-06-24</td>\n",
       "      <td>170</td>\n",
       "      <td>72</td>\n",
       "      <td>Argentina</td>\n",
       "      <td>FC Barcelona</td>\n",
       "      <td>94</td>\n",
       "      <td>94</td>\n",
       "      <td>95500000</td>\n",
       "      <td>565000</td>\n",
       "      <td>RW, CF, ST</td>\n",
       "      <td>Left</td>\n",
       "      <td>5</td>\n",
       "      <td>4</td>\n",
       "      <td>4</td>\n",
       "      <td>Medium/Low</td>\n",
       "      <td>Messi</td>\n",
       "      <td>Yes</td>\n",
       "      <td>195800000.0</td>\n",
       "      <td>#Dribbler, #Distance Shooter, #Crosser, #FK Sp...</td>\n",
       "      <td>RW</td>\n",
       "      <td>10.0</td>\n",
       "      <td>NaN</td>\n",
       "      <td>2004-07-01</td>\n",
       "      <td>2021.0</td>\n",
       "      <td>NaN</td>\n",
       "      <td>NaN</td>\n",
       "      <td>87.0</td>\n",
       "      <td>92.0</td>\n",
       "      <td>92.0</td>\n",
       "      <td>96.0</td>\n",
       "      <td>39.0</td>\n",
       "      <td>66.0</td>\n",
       "      <td>NaN</td>\n",
       "      <td>NaN</td>\n",
       "      <td>NaN</td>\n",
       "      <td>NaN</td>\n",
       "      <td>NaN</td>\n",
       "      <td>NaN</td>\n",
       "      <td>Beat Offside Trap, Argues with Officials, Earl...</td>\n",
       "      <td>88</td>\n",
       "      <td>95</td>\n",
       "      <td>70</td>\n",
       "      <td>92</td>\n",
       "      <td>88</td>\n",
       "      <td>97</td>\n",
       "      <td>93</td>\n",
       "      <td>94</td>\n",
       "      <td>92</td>\n",
       "      <td>96</td>\n",
       "      <td>91</td>\n",
       "      <td>84</td>\n",
       "      <td>93</td>\n",
       "      <td>95</td>\n",
       "      <td>95</td>\n",
       "      <td>86</td>\n",
       "      <td>68</td>\n",
       "      <td>75</td>\n",
       "      <td>68</td>\n",
       "      <td>94</td>\n",
       "      <td>48</td>\n",
       "      <td>40</td>\n",
       "      <td>94</td>\n",
       "      <td>94</td>\n",
       "      <td>75</td>\n",
       "      <td>96</td>\n",
       "      <td>33</td>\n",
       "      <td>37</td>\n",
       "      <td>26</td>\n",
       "      <td>6</td>\n",
       "      <td>11</td>\n",
       "      <td>15</td>\n",
       "      <td>14</td>\n",
       "      <td>8</td>\n",
       "      <td>89+2</td>\n",
       "      <td>89+2</td>\n",
       "      <td>89+2</td>\n",
       "      <td>93+2</td>\n",
       "      <td>93+2</td>\n",
       "      <td>93+2</td>\n",
       "      <td>93+2</td>\n",
       "      <td>93+2</td>\n",
       "      <td>93+2</td>\n",
       "      <td>93+2</td>\n",
       "      <td>93+2</td>\n",
       "      <td>92+2</td>\n",
       "      <td>87+2</td>\n",
       "      <td>87+2</td>\n",
       "      <td>87+2</td>\n",
       "      <td>92+2</td>\n",
       "      <td>68+2</td>\n",
       "      <td>66+2</td>\n",
       "      <td>66+2</td>\n",
       "      <td>66+2</td>\n",
       "      <td>68+2</td>\n",
       "      <td>63+2</td>\n",
       "      <td>52+2</td>\n",
       "      <td>52+2</td>\n",
       "      <td>52+2</td>\n",
       "      <td>63+2</td>\n",
       "    </tr>\n",
       "    <tr>\n",
       "      <th>1</th>\n",
       "      <td>20801</td>\n",
       "      <td>https://sofifa.com/player/20801/c-ronaldo-dos-...</td>\n",
       "      <td>Cristiano Ronaldo</td>\n",
       "      <td>Cristiano Ronaldo dos Santos Aveiro</td>\n",
       "      <td>34</td>\n",
       "      <td>1985-02-05</td>\n",
       "      <td>187</td>\n",
       "      <td>83</td>\n",
       "      <td>Portugal</td>\n",
       "      <td>Juventus</td>\n",
       "      <td>93</td>\n",
       "      <td>93</td>\n",
       "      <td>58500000</td>\n",
       "      <td>405000</td>\n",
       "      <td>ST, LW</td>\n",
       "      <td>Right</td>\n",
       "      <td>5</td>\n",
       "      <td>4</td>\n",
       "      <td>5</td>\n",
       "      <td>High/Low</td>\n",
       "      <td>C. Ronaldo</td>\n",
       "      <td>Yes</td>\n",
       "      <td>96500000.0</td>\n",
       "      <td>#Speedster, #Dribbler, #Distance Shooter, #Acr...</td>\n",
       "      <td>LW</td>\n",
       "      <td>7.0</td>\n",
       "      <td>NaN</td>\n",
       "      <td>2018-07-10</td>\n",
       "      <td>2022.0</td>\n",
       "      <td>LS</td>\n",
       "      <td>7.0</td>\n",
       "      <td>90.0</td>\n",
       "      <td>93.0</td>\n",
       "      <td>82.0</td>\n",
       "      <td>89.0</td>\n",
       "      <td>35.0</td>\n",
       "      <td>78.0</td>\n",
       "      <td>NaN</td>\n",
       "      <td>NaN</td>\n",
       "      <td>NaN</td>\n",
       "      <td>NaN</td>\n",
       "      <td>NaN</td>\n",
       "      <td>NaN</td>\n",
       "      <td>Long Throw-in, Selfish, Argues with Officials,...</td>\n",
       "      <td>84</td>\n",
       "      <td>94</td>\n",
       "      <td>89</td>\n",
       "      <td>83</td>\n",
       "      <td>87</td>\n",
       "      <td>89</td>\n",
       "      <td>81</td>\n",
       "      <td>76</td>\n",
       "      <td>77</td>\n",
       "      <td>92</td>\n",
       "      <td>89</td>\n",
       "      <td>91</td>\n",
       "      <td>87</td>\n",
       "      <td>96</td>\n",
       "      <td>71</td>\n",
       "      <td>95</td>\n",
       "      <td>95</td>\n",
       "      <td>85</td>\n",
       "      <td>78</td>\n",
       "      <td>93</td>\n",
       "      <td>63</td>\n",
       "      <td>29</td>\n",
       "      <td>95</td>\n",
       "      <td>82</td>\n",
       "      <td>85</td>\n",
       "      <td>95</td>\n",
       "      <td>28</td>\n",
       "      <td>32</td>\n",
       "      <td>24</td>\n",
       "      <td>7</td>\n",
       "      <td>11</td>\n",
       "      <td>15</td>\n",
       "      <td>14</td>\n",
       "      <td>11</td>\n",
       "      <td>91+3</td>\n",
       "      <td>91+3</td>\n",
       "      <td>91+3</td>\n",
       "      <td>89+3</td>\n",
       "      <td>90+3</td>\n",
       "      <td>90+3</td>\n",
       "      <td>90+3</td>\n",
       "      <td>89+3</td>\n",
       "      <td>88+3</td>\n",
       "      <td>88+3</td>\n",
       "      <td>88+3</td>\n",
       "      <td>88+3</td>\n",
       "      <td>81+3</td>\n",
       "      <td>81+3</td>\n",
       "      <td>81+3</td>\n",
       "      <td>88+3</td>\n",
       "      <td>65+3</td>\n",
       "      <td>61+3</td>\n",
       "      <td>61+3</td>\n",
       "      <td>61+3</td>\n",
       "      <td>65+3</td>\n",
       "      <td>61+3</td>\n",
       "      <td>53+3</td>\n",
       "      <td>53+3</td>\n",
       "      <td>53+3</td>\n",
       "      <td>61+3</td>\n",
       "    </tr>\n",
       "    <tr>\n",
       "      <th>2</th>\n",
       "      <td>190871</td>\n",
       "      <td>https://sofifa.com/player/190871/neymar-da-sil...</td>\n",
       "      <td>Neymar Jr</td>\n",
       "      <td>Neymar da Silva Santos Junior</td>\n",
       "      <td>27</td>\n",
       "      <td>1992-02-05</td>\n",
       "      <td>175</td>\n",
       "      <td>68</td>\n",
       "      <td>Brazil</td>\n",
       "      <td>Paris Saint-Germain</td>\n",
       "      <td>92</td>\n",
       "      <td>92</td>\n",
       "      <td>105500000</td>\n",
       "      <td>290000</td>\n",
       "      <td>LW, CAM</td>\n",
       "      <td>Right</td>\n",
       "      <td>5</td>\n",
       "      <td>5</td>\n",
       "      <td>5</td>\n",
       "      <td>High/Medium</td>\n",
       "      <td>Neymar</td>\n",
       "      <td>Yes</td>\n",
       "      <td>195200000.0</td>\n",
       "      <td>#Speedster, #Dribbler, #Playmaker  , #Crosser,...</td>\n",
       "      <td>CAM</td>\n",
       "      <td>10.0</td>\n",
       "      <td>NaN</td>\n",
       "      <td>2017-08-03</td>\n",
       "      <td>2022.0</td>\n",
       "      <td>LW</td>\n",
       "      <td>10.0</td>\n",
       "      <td>91.0</td>\n",
       "      <td>85.0</td>\n",
       "      <td>87.0</td>\n",
       "      <td>95.0</td>\n",
       "      <td>32.0</td>\n",
       "      <td>58.0</td>\n",
       "      <td>NaN</td>\n",
       "      <td>NaN</td>\n",
       "      <td>NaN</td>\n",
       "      <td>NaN</td>\n",
       "      <td>NaN</td>\n",
       "      <td>NaN</td>\n",
       "      <td>Power Free-Kick, Injury Free, Selfish, Early C...</td>\n",
       "      <td>87</td>\n",
       "      <td>87</td>\n",
       "      <td>62</td>\n",
       "      <td>87</td>\n",
       "      <td>87</td>\n",
       "      <td>96</td>\n",
       "      <td>88</td>\n",
       "      <td>87</td>\n",
       "      <td>81</td>\n",
       "      <td>95</td>\n",
       "      <td>94</td>\n",
       "      <td>89</td>\n",
       "      <td>96</td>\n",
       "      <td>92</td>\n",
       "      <td>84</td>\n",
       "      <td>80</td>\n",
       "      <td>61</td>\n",
       "      <td>81</td>\n",
       "      <td>49</td>\n",
       "      <td>84</td>\n",
       "      <td>51</td>\n",
       "      <td>36</td>\n",
       "      <td>87</td>\n",
       "      <td>90</td>\n",
       "      <td>90</td>\n",
       "      <td>94</td>\n",
       "      <td>27</td>\n",
       "      <td>26</td>\n",
       "      <td>29</td>\n",
       "      <td>9</td>\n",
       "      <td>9</td>\n",
       "      <td>15</td>\n",
       "      <td>15</td>\n",
       "      <td>11</td>\n",
       "      <td>84+3</td>\n",
       "      <td>84+3</td>\n",
       "      <td>84+3</td>\n",
       "      <td>90+3</td>\n",
       "      <td>89+3</td>\n",
       "      <td>89+3</td>\n",
       "      <td>89+3</td>\n",
       "      <td>90+3</td>\n",
       "      <td>90+3</td>\n",
       "      <td>90+3</td>\n",
       "      <td>90+3</td>\n",
       "      <td>89+3</td>\n",
       "      <td>82+3</td>\n",
       "      <td>82+3</td>\n",
       "      <td>82+3</td>\n",
       "      <td>89+3</td>\n",
       "      <td>66+3</td>\n",
       "      <td>61+3</td>\n",
       "      <td>61+3</td>\n",
       "      <td>61+3</td>\n",
       "      <td>66+3</td>\n",
       "      <td>61+3</td>\n",
       "      <td>46+3</td>\n",
       "      <td>46+3</td>\n",
       "      <td>46+3</td>\n",
       "      <td>61+3</td>\n",
       "    </tr>\n",
       "    <tr>\n",
       "      <th>3</th>\n",
       "      <td>200389</td>\n",
       "      <td>https://sofifa.com/player/200389/jan-oblak/20/...</td>\n",
       "      <td>J. Oblak</td>\n",
       "      <td>Jan Oblak</td>\n",
       "      <td>26</td>\n",
       "      <td>1993-01-07</td>\n",
       "      <td>188</td>\n",
       "      <td>87</td>\n",
       "      <td>Slovenia</td>\n",
       "      <td>Atlético Madrid</td>\n",
       "      <td>91</td>\n",
       "      <td>93</td>\n",
       "      <td>77500000</td>\n",
       "      <td>125000</td>\n",
       "      <td>GK</td>\n",
       "      <td>Right</td>\n",
       "      <td>3</td>\n",
       "      <td>3</td>\n",
       "      <td>1</td>\n",
       "      <td>Medium/Medium</td>\n",
       "      <td>Normal</td>\n",
       "      <td>Yes</td>\n",
       "      <td>164700000.0</td>\n",
       "      <td>NaN</td>\n",
       "      <td>GK</td>\n",
       "      <td>13.0</td>\n",
       "      <td>NaN</td>\n",
       "      <td>2014-07-16</td>\n",
       "      <td>2023.0</td>\n",
       "      <td>GK</td>\n",
       "      <td>1.0</td>\n",
       "      <td>NaN</td>\n",
       "      <td>NaN</td>\n",
       "      <td>NaN</td>\n",
       "      <td>NaN</td>\n",
       "      <td>NaN</td>\n",
       "      <td>NaN</td>\n",
       "      <td>87.0</td>\n",
       "      <td>92.0</td>\n",
       "      <td>78.0</td>\n",
       "      <td>89.0</td>\n",
       "      <td>52.0</td>\n",
       "      <td>90.0</td>\n",
       "      <td>Flair, Acrobatic Clearance</td>\n",
       "      <td>13</td>\n",
       "      <td>11</td>\n",
       "      <td>15</td>\n",
       "      <td>43</td>\n",
       "      <td>13</td>\n",
       "      <td>12</td>\n",
       "      <td>13</td>\n",
       "      <td>14</td>\n",
       "      <td>40</td>\n",
       "      <td>30</td>\n",
       "      <td>43</td>\n",
       "      <td>60</td>\n",
       "      <td>67</td>\n",
       "      <td>88</td>\n",
       "      <td>49</td>\n",
       "      <td>59</td>\n",
       "      <td>78</td>\n",
       "      <td>41</td>\n",
       "      <td>78</td>\n",
       "      <td>12</td>\n",
       "      <td>34</td>\n",
       "      <td>19</td>\n",
       "      <td>11</td>\n",
       "      <td>65</td>\n",
       "      <td>11</td>\n",
       "      <td>68</td>\n",
       "      <td>27</td>\n",
       "      <td>12</td>\n",
       "      <td>18</td>\n",
       "      <td>87</td>\n",
       "      <td>92</td>\n",
       "      <td>78</td>\n",
       "      <td>90</td>\n",
       "      <td>89</td>\n",
       "      <td>NaN</td>\n",
       "      <td>NaN</td>\n",
       "      <td>NaN</td>\n",
       "      <td>NaN</td>\n",
       "      <td>NaN</td>\n",
       "      <td>NaN</td>\n",
       "      <td>NaN</td>\n",
       "      <td>NaN</td>\n",
       "      <td>NaN</td>\n",
       "      <td>NaN</td>\n",
       "      <td>NaN</td>\n",
       "      <td>NaN</td>\n",
       "      <td>NaN</td>\n",
       "      <td>NaN</td>\n",
       "      <td>NaN</td>\n",
       "      <td>NaN</td>\n",
       "      <td>NaN</td>\n",
       "      <td>NaN</td>\n",
       "      <td>NaN</td>\n",
       "      <td>NaN</td>\n",
       "      <td>NaN</td>\n",
       "      <td>NaN</td>\n",
       "      <td>NaN</td>\n",
       "      <td>NaN</td>\n",
       "      <td>NaN</td>\n",
       "      <td>NaN</td>\n",
       "    </tr>\n",
       "    <tr>\n",
       "      <th>4</th>\n",
       "      <td>183277</td>\n",
       "      <td>https://sofifa.com/player/183277/eden-hazard/2...</td>\n",
       "      <td>E. Hazard</td>\n",
       "      <td>Eden Hazard</td>\n",
       "      <td>28</td>\n",
       "      <td>1991-01-07</td>\n",
       "      <td>175</td>\n",
       "      <td>74</td>\n",
       "      <td>Belgium</td>\n",
       "      <td>Real Madrid</td>\n",
       "      <td>91</td>\n",
       "      <td>91</td>\n",
       "      <td>90000000</td>\n",
       "      <td>470000</td>\n",
       "      <td>LW, CF</td>\n",
       "      <td>Right</td>\n",
       "      <td>4</td>\n",
       "      <td>4</td>\n",
       "      <td>4</td>\n",
       "      <td>High/Medium</td>\n",
       "      <td>Normal</td>\n",
       "      <td>Yes</td>\n",
       "      <td>184500000.0</td>\n",
       "      <td>#Speedster, #Dribbler, #Acrobat</td>\n",
       "      <td>LW</td>\n",
       "      <td>7.0</td>\n",
       "      <td>NaN</td>\n",
       "      <td>2019-07-01</td>\n",
       "      <td>2024.0</td>\n",
       "      <td>LF</td>\n",
       "      <td>10.0</td>\n",
       "      <td>91.0</td>\n",
       "      <td>83.0</td>\n",
       "      <td>86.0</td>\n",
       "      <td>94.0</td>\n",
       "      <td>35.0</td>\n",
       "      <td>66.0</td>\n",
       "      <td>NaN</td>\n",
       "      <td>NaN</td>\n",
       "      <td>NaN</td>\n",
       "      <td>NaN</td>\n",
       "      <td>NaN</td>\n",
       "      <td>NaN</td>\n",
       "      <td>Beat Offside Trap, Selfish, Finesse Shot, Spee...</td>\n",
       "      <td>81</td>\n",
       "      <td>84</td>\n",
       "      <td>61</td>\n",
       "      <td>89</td>\n",
       "      <td>83</td>\n",
       "      <td>95</td>\n",
       "      <td>83</td>\n",
       "      <td>79</td>\n",
       "      <td>83</td>\n",
       "      <td>94</td>\n",
       "      <td>94</td>\n",
       "      <td>88</td>\n",
       "      <td>95</td>\n",
       "      <td>90</td>\n",
       "      <td>94</td>\n",
       "      <td>82</td>\n",
       "      <td>56</td>\n",
       "      <td>84</td>\n",
       "      <td>63</td>\n",
       "      <td>80</td>\n",
       "      <td>54</td>\n",
       "      <td>41</td>\n",
       "      <td>87</td>\n",
       "      <td>89</td>\n",
       "      <td>88</td>\n",
       "      <td>91</td>\n",
       "      <td>34</td>\n",
       "      <td>27</td>\n",
       "      <td>22</td>\n",
       "      <td>11</td>\n",
       "      <td>12</td>\n",
       "      <td>6</td>\n",
       "      <td>8</td>\n",
       "      <td>8</td>\n",
       "      <td>83+3</td>\n",
       "      <td>83+3</td>\n",
       "      <td>83+3</td>\n",
       "      <td>89+3</td>\n",
       "      <td>88+3</td>\n",
       "      <td>88+3</td>\n",
       "      <td>88+3</td>\n",
       "      <td>89+3</td>\n",
       "      <td>89+3</td>\n",
       "      <td>89+3</td>\n",
       "      <td>89+3</td>\n",
       "      <td>89+3</td>\n",
       "      <td>83+3</td>\n",
       "      <td>83+3</td>\n",
       "      <td>83+3</td>\n",
       "      <td>89+3</td>\n",
       "      <td>66+3</td>\n",
       "      <td>63+3</td>\n",
       "      <td>63+3</td>\n",
       "      <td>63+3</td>\n",
       "      <td>66+3</td>\n",
       "      <td>61+3</td>\n",
       "      <td>49+3</td>\n",
       "      <td>49+3</td>\n",
       "      <td>49+3</td>\n",
       "      <td>61+3</td>\n",
       "    </tr>\n",
       "  </tbody>\n",
       "</table>\n",
       "</div>"
      ],
      "text/plain": [
       "   sofifa_id                                         player_url  \\\n",
       "0     158023  https://sofifa.com/player/158023/lionel-messi/...   \n",
       "1      20801  https://sofifa.com/player/20801/c-ronaldo-dos-...   \n",
       "2     190871  https://sofifa.com/player/190871/neymar-da-sil...   \n",
       "3     200389  https://sofifa.com/player/200389/jan-oblak/20/...   \n",
       "4     183277  https://sofifa.com/player/183277/eden-hazard/2...   \n",
       "\n",
       "          short_name                            long_name  age         dob  \\\n",
       "0           L. Messi       Lionel Andrés Messi Cuccittini   32  1987-06-24   \n",
       "1  Cristiano Ronaldo  Cristiano Ronaldo dos Santos Aveiro   34  1985-02-05   \n",
       "2          Neymar Jr        Neymar da Silva Santos Junior   27  1992-02-05   \n",
       "3           J. Oblak                            Jan Oblak   26  1993-01-07   \n",
       "4          E. Hazard                          Eden Hazard   28  1991-01-07   \n",
       "\n",
       "   height_cm  weight_kg nationality                 club  overall  potential  \\\n",
       "0        170         72   Argentina         FC Barcelona       94         94   \n",
       "1        187         83    Portugal             Juventus       93         93   \n",
       "2        175         68      Brazil  Paris Saint-Germain       92         92   \n",
       "3        188         87    Slovenia      Atlético Madrid       91         93   \n",
       "4        175         74     Belgium          Real Madrid       91         91   \n",
       "\n",
       "   value_eur  wage_eur player_positions preferred_foot  \\\n",
       "0   95500000    565000       RW, CF, ST           Left   \n",
       "1   58500000    405000           ST, LW          Right   \n",
       "2  105500000    290000          LW, CAM          Right   \n",
       "3   77500000    125000               GK          Right   \n",
       "4   90000000    470000           LW, CF          Right   \n",
       "\n",
       "   international_reputation  weak_foot  skill_moves      work_rate  \\\n",
       "0                         5          4            4     Medium/Low   \n",
       "1                         5          4            5       High/Low   \n",
       "2                         5          5            5    High/Medium   \n",
       "3                         3          3            1  Medium/Medium   \n",
       "4                         4          4            4    High/Medium   \n",
       "\n",
       "    body_type real_face  release_clause_eur  \\\n",
       "0       Messi       Yes         195800000.0   \n",
       "1  C. Ronaldo       Yes          96500000.0   \n",
       "2      Neymar       Yes         195200000.0   \n",
       "3      Normal       Yes         164700000.0   \n",
       "4      Normal       Yes         184500000.0   \n",
       "\n",
       "                                         player_tags team_position  \\\n",
       "0  #Dribbler, #Distance Shooter, #Crosser, #FK Sp...            RW   \n",
       "1  #Speedster, #Dribbler, #Distance Shooter, #Acr...            LW   \n",
       "2  #Speedster, #Dribbler, #Playmaker  , #Crosser,...           CAM   \n",
       "3                                                NaN            GK   \n",
       "4                    #Speedster, #Dribbler, #Acrobat            LW   \n",
       "\n",
       "   team_jersey_number loaned_from      joined  contract_valid_until  \\\n",
       "0                10.0         NaN  2004-07-01                2021.0   \n",
       "1                 7.0         NaN  2018-07-10                2022.0   \n",
       "2                10.0         NaN  2017-08-03                2022.0   \n",
       "3                13.0         NaN  2014-07-16                2023.0   \n",
       "4                 7.0         NaN  2019-07-01                2024.0   \n",
       "\n",
       "  nation_position  nation_jersey_number  pace  shooting  passing  dribbling  \\\n",
       "0             NaN                   NaN  87.0      92.0     92.0       96.0   \n",
       "1              LS                   7.0  90.0      93.0     82.0       89.0   \n",
       "2              LW                  10.0  91.0      85.0     87.0       95.0   \n",
       "3              GK                   1.0   NaN       NaN      NaN        NaN   \n",
       "4              LF                  10.0  91.0      83.0     86.0       94.0   \n",
       "\n",
       "   defending  physic  gk_diving  gk_handling  gk_kicking  gk_reflexes  \\\n",
       "0       39.0    66.0        NaN          NaN         NaN          NaN   \n",
       "1       35.0    78.0        NaN          NaN         NaN          NaN   \n",
       "2       32.0    58.0        NaN          NaN         NaN          NaN   \n",
       "3        NaN     NaN       87.0         92.0        78.0         89.0   \n",
       "4       35.0    66.0        NaN          NaN         NaN          NaN   \n",
       "\n",
       "   gk_speed  gk_positioning  \\\n",
       "0       NaN             NaN   \n",
       "1       NaN             NaN   \n",
       "2       NaN             NaN   \n",
       "3      52.0            90.0   \n",
       "4       NaN             NaN   \n",
       "\n",
       "                                       player_traits  attacking_crossing  \\\n",
       "0  Beat Offside Trap, Argues with Officials, Earl...                  88   \n",
       "1  Long Throw-in, Selfish, Argues with Officials,...                  84   \n",
       "2  Power Free-Kick, Injury Free, Selfish, Early C...                  87   \n",
       "3                         Flair, Acrobatic Clearance                  13   \n",
       "4  Beat Offside Trap, Selfish, Finesse Shot, Spee...                  81   \n",
       "\n",
       "   attacking_finishing  attacking_heading_accuracy  attacking_short_passing  \\\n",
       "0                   95                          70                       92   \n",
       "1                   94                          89                       83   \n",
       "2                   87                          62                       87   \n",
       "3                   11                          15                       43   \n",
       "4                   84                          61                       89   \n",
       "\n",
       "   attacking_volleys  skill_dribbling  skill_curve  skill_fk_accuracy  \\\n",
       "0                 88               97           93                 94   \n",
       "1                 87               89           81                 76   \n",
       "2                 87               96           88                 87   \n",
       "3                 13               12           13                 14   \n",
       "4                 83               95           83                 79   \n",
       "\n",
       "   skill_long_passing  skill_ball_control  movement_acceleration  \\\n",
       "0                  92                  96                     91   \n",
       "1                  77                  92                     89   \n",
       "2                  81                  95                     94   \n",
       "3                  40                  30                     43   \n",
       "4                  83                  94                     94   \n",
       "\n",
       "   movement_sprint_speed  movement_agility  movement_reactions  \\\n",
       "0                     84                93                  95   \n",
       "1                     91                87                  96   \n",
       "2                     89                96                  92   \n",
       "3                     60                67                  88   \n",
       "4                     88                95                  90   \n",
       "\n",
       "   movement_balance  power_shot_power  power_jumping  power_stamina  \\\n",
       "0                95                86             68             75   \n",
       "1                71                95             95             85   \n",
       "2                84                80             61             81   \n",
       "3                49                59             78             41   \n",
       "4                94                82             56             84   \n",
       "\n",
       "   power_strength  power_long_shots  mentality_aggression  \\\n",
       "0              68                94                    48   \n",
       "1              78                93                    63   \n",
       "2              49                84                    51   \n",
       "3              78                12                    34   \n",
       "4              63                80                    54   \n",
       "\n",
       "   mentality_interceptions  mentality_positioning  mentality_vision  \\\n",
       "0                       40                     94                94   \n",
       "1                       29                     95                82   \n",
       "2                       36                     87                90   \n",
       "3                       19                     11                65   \n",
       "4                       41                     87                89   \n",
       "\n",
       "   mentality_penalties  mentality_composure  defending_marking  \\\n",
       "0                   75                   96                 33   \n",
       "1                   85                   95                 28   \n",
       "2                   90                   94                 27   \n",
       "3                   11                   68                 27   \n",
       "4                   88                   91                 34   \n",
       "\n",
       "   defending_standing_tackle  defending_sliding_tackle  goalkeeping_diving  \\\n",
       "0                         37                        26                   6   \n",
       "1                         32                        24                   7   \n",
       "2                         26                        29                   9   \n",
       "3                         12                        18                  87   \n",
       "4                         27                        22                  11   \n",
       "\n",
       "   goalkeeping_handling  goalkeeping_kicking  goalkeeping_positioning  \\\n",
       "0                    11                   15                       14   \n",
       "1                    11                   15                       14   \n",
       "2                     9                   15                       15   \n",
       "3                    92                   78                       90   \n",
       "4                    12                    6                        8   \n",
       "\n",
       "   goalkeeping_reflexes    ls    st    rs    lw    lf    cf    rf    rw   lam  \\\n",
       "0                     8  89+2  89+2  89+2  93+2  93+2  93+2  93+2  93+2  93+2   \n",
       "1                    11  91+3  91+3  91+3  89+3  90+3  90+3  90+3  89+3  88+3   \n",
       "2                    11  84+3  84+3  84+3  90+3  89+3  89+3  89+3  90+3  90+3   \n",
       "3                    89   NaN   NaN   NaN   NaN   NaN   NaN   NaN   NaN   NaN   \n",
       "4                     8  83+3  83+3  83+3  89+3  88+3  88+3  88+3  89+3  89+3   \n",
       "\n",
       "    cam   ram    lm   lcm    cm   rcm    rm   lwb   ldm   cdm   rdm   rwb  \\\n",
       "0  93+2  93+2  92+2  87+2  87+2  87+2  92+2  68+2  66+2  66+2  66+2  68+2   \n",
       "1  88+3  88+3  88+3  81+3  81+3  81+3  88+3  65+3  61+3  61+3  61+3  65+3   \n",
       "2  90+3  90+3  89+3  82+3  82+3  82+3  89+3  66+3  61+3  61+3  61+3  66+3   \n",
       "3   NaN   NaN   NaN   NaN   NaN   NaN   NaN   NaN   NaN   NaN   NaN   NaN   \n",
       "4  89+3  89+3  89+3  83+3  83+3  83+3  89+3  66+3  63+3  63+3  63+3  66+3   \n",
       "\n",
       "     lb   lcb    cb   rcb    rb  \n",
       "0  63+2  52+2  52+2  52+2  63+2  \n",
       "1  61+3  53+3  53+3  53+3  61+3  \n",
       "2  61+3  46+3  46+3  46+3  61+3  \n",
       "3   NaN   NaN   NaN   NaN   NaN  \n",
       "4  61+3  49+3  49+3  49+3  61+3  "
      ]
     },
     "execution_count": 4,
     "metadata": {},
     "output_type": "execute_result"
    }
   ],
   "source": [
    "pd.set_option('display.max_columns',None)\n",
    "fifatest.head()"
   ]
  },
  {
   "cell_type": "code",
   "execution_count": 5,
   "metadata": {
    "execution": {
     "iopub.execute_input": "2021-03-11T19:15:29.894239Z",
     "iopub.status.busy": "2021-03-11T19:15:29.893249Z",
     "iopub.status.idle": "2021-03-11T19:15:29.995296Z",
     "shell.execute_reply": "2021-03-11T19:15:29.994664Z"
    },
    "papermill": {
     "duration": 0.121362,
     "end_time": "2021-03-11T19:15:29.995464",
     "exception": false,
     "start_time": "2021-03-11T19:15:29.874102",
     "status": "completed"
    },
    "tags": []
   },
   "outputs": [
    {
     "data": {
      "text/plain": [
       "sofifa_id      0.00\n",
       "player_url     0.00\n",
       "short_name     0.00\n",
       "long_name      0.00\n",
       "age            0.00\n",
       "              ...  \n",
       "lb            11.14\n",
       "lcb           11.14\n",
       "cb            11.14\n",
       "rcb           11.14\n",
       "rb            11.14\n",
       "Length: 104, dtype: float64"
      ]
     },
     "execution_count": 5,
     "metadata": {},
     "output_type": "execute_result"
    }
   ],
   "source": [
    "fifatestmissing=fifatest.isna()\n",
    "fifatestmissingsum=fifatestmissing.sum()\n",
    "(fifatestmissingsum/len(fifatest))*100\n",
    "fifatest.isna().mean().round(4)*100"
   ]
  },
  {
   "cell_type": "code",
   "execution_count": 6,
   "metadata": {
    "execution": {
     "iopub.execute_input": "2021-03-11T19:15:30.031594Z",
     "iopub.status.busy": "2021-03-11T19:15:30.030897Z",
     "iopub.status.idle": "2021-03-11T19:15:30.035162Z",
     "shell.execute_reply": "2021-03-11T19:15:30.034599Z"
    },
    "papermill": {
     "duration": 0.024535,
     "end_time": "2021-03-11T19:15:30.035296",
     "exception": false,
     "start_time": "2021-03-11T19:15:30.010761",
     "status": "completed"
    },
    "tags": []
   },
   "outputs": [
    {
     "data": {
      "text/plain": [
       "dtype('float64')"
      ]
     },
     "execution_count": 6,
     "metadata": {},
     "output_type": "execute_result"
    }
   ],
   "source": [
    "fifatest.contract_valid_until.dtypes"
   ]
  },
  {
   "cell_type": "code",
   "execution_count": 7,
   "metadata": {
    "execution": {
     "iopub.execute_input": "2021-03-11T19:15:30.075441Z",
     "iopub.status.busy": "2021-03-11T19:15:30.074771Z",
     "iopub.status.idle": "2021-03-11T19:15:30.079156Z",
     "shell.execute_reply": "2021-03-11T19:15:30.078608Z"
    },
    "papermill": {
     "duration": 0.02731,
     "end_time": "2021-03-11T19:15:30.079288",
     "exception": false,
     "start_time": "2021-03-11T19:15:30.051978",
     "status": "completed"
    },
    "tags": []
   },
   "outputs": [
    {
     "data": {
      "text/plain": [
       "{0: 'sofifa_id',\n",
       " 1: 'player_url',\n",
       " 2: 'short_name',\n",
       " 3: 'long_name',\n",
       " 4: 'age',\n",
       " 5: 'dob',\n",
       " 6: 'height_cm',\n",
       " 7: 'weight_kg',\n",
       " 8: 'nationality',\n",
       " 9: 'club',\n",
       " 10: 'overall',\n",
       " 11: 'potential',\n",
       " 12: 'value_eur',\n",
       " 13: 'wage_eur',\n",
       " 14: 'player_positions',\n",
       " 15: 'preferred_foot',\n",
       " 16: 'international_reputation',\n",
       " 17: 'weak_foot',\n",
       " 18: 'skill_moves',\n",
       " 19: 'work_rate',\n",
       " 20: 'body_type',\n",
       " 21: 'real_face',\n",
       " 22: 'release_clause_eur',\n",
       " 23: 'player_tags',\n",
       " 24: 'team_position',\n",
       " 25: 'team_jersey_number',\n",
       " 26: 'loaned_from',\n",
       " 27: 'joined',\n",
       " 28: 'contract_valid_until',\n",
       " 29: 'nation_position',\n",
       " 30: 'nation_jersey_number',\n",
       " 31: 'pace',\n",
       " 32: 'shooting',\n",
       " 33: 'passing',\n",
       " 34: 'dribbling',\n",
       " 35: 'defending',\n",
       " 36: 'physic',\n",
       " 37: 'gk_diving',\n",
       " 38: 'gk_handling',\n",
       " 39: 'gk_kicking',\n",
       " 40: 'gk_reflexes',\n",
       " 41: 'gk_speed',\n",
       " 42: 'gk_positioning',\n",
       " 43: 'player_traits',\n",
       " 44: 'attacking_crossing',\n",
       " 45: 'attacking_finishing',\n",
       " 46: 'attacking_heading_accuracy',\n",
       " 47: 'attacking_short_passing',\n",
       " 48: 'attacking_volleys',\n",
       " 49: 'skill_dribbling',\n",
       " 50: 'skill_curve',\n",
       " 51: 'skill_fk_accuracy',\n",
       " 52: 'skill_long_passing',\n",
       " 53: 'skill_ball_control',\n",
       " 54: 'movement_acceleration',\n",
       " 55: 'movement_sprint_speed',\n",
       " 56: 'movement_agility',\n",
       " 57: 'movement_reactions',\n",
       " 58: 'movement_balance',\n",
       " 59: 'power_shot_power',\n",
       " 60: 'power_jumping',\n",
       " 61: 'power_stamina',\n",
       " 62: 'power_strength',\n",
       " 63: 'power_long_shots',\n",
       " 64: 'mentality_aggression',\n",
       " 65: 'mentality_interceptions',\n",
       " 66: 'mentality_positioning',\n",
       " 67: 'mentality_vision',\n",
       " 68: 'mentality_penalties',\n",
       " 69: 'mentality_composure',\n",
       " 70: 'defending_marking',\n",
       " 71: 'defending_standing_tackle',\n",
       " 72: 'defending_sliding_tackle',\n",
       " 73: 'goalkeeping_diving',\n",
       " 74: 'goalkeeping_handling',\n",
       " 75: 'goalkeeping_kicking',\n",
       " 76: 'goalkeeping_positioning',\n",
       " 77: 'goalkeeping_reflexes',\n",
       " 78: 'ls',\n",
       " 79: 'st',\n",
       " 80: 'rs',\n",
       " 81: 'lw',\n",
       " 82: 'lf',\n",
       " 83: 'cf',\n",
       " 84: 'rf',\n",
       " 85: 'rw',\n",
       " 86: 'lam',\n",
       " 87: 'cam',\n",
       " 88: 'ram',\n",
       " 89: 'lm',\n",
       " 90: 'lcm',\n",
       " 91: 'cm',\n",
       " 92: 'rcm',\n",
       " 93: 'rm',\n",
       " 94: 'lwb',\n",
       " 95: 'ldm',\n",
       " 96: 'cdm',\n",
       " 97: 'rdm',\n",
       " 98: 'rwb',\n",
       " 99: 'lb',\n",
       " 100: 'lcb',\n",
       " 101: 'cb',\n",
       " 102: 'rcb',\n",
       " 103: 'rb'}"
      ]
     },
     "execution_count": 7,
     "metadata": {},
     "output_type": "execute_result"
    }
   ],
   "source": [
    "##FIND INDEX OF THE COLUMNS\n",
    "{fifatest.columns.get_loc(col):col for col in  fifatest.columns}"
   ]
  },
  {
   "cell_type": "markdown",
   "metadata": {
    "papermill": {
     "duration": 0.01557,
     "end_time": "2021-03-11T19:15:30.111459",
     "exception": false,
     "start_time": "2021-03-11T19:15:30.095889",
     "status": "completed"
    },
    "tags": []
   },
   "source": [
    "**Dropping Unnecessary Columns**"
   ]
  },
  {
   "cell_type": "code",
   "execution_count": 8,
   "metadata": {
    "execution": {
     "iopub.execute_input": "2021-03-11T19:15:30.146289Z",
     "iopub.status.busy": "2021-03-11T19:15:30.145689Z",
     "iopub.status.idle": "2021-03-11T19:15:30.182725Z",
     "shell.execute_reply": "2021-03-11T19:15:30.183230Z"
    },
    "papermill": {
     "duration": 0.056168,
     "end_time": "2021-03-11T19:15:30.183441",
     "exception": false,
     "start_time": "2021-03-11T19:15:30.127273",
     "status": "completed"
    },
    "tags": []
   },
   "outputs": [],
   "source": [
    "\n",
    "fifatest.drop(fifatest.columns[43:],axis=1,inplace=True)\n",
    "fifatest.drop(fifatest.columns[20:24],axis=1,inplace=True)\n",
    "fifatest.drop(fifatest.columns[22:24],axis=1,inplace=True)\n",
    "fifatest.drop(fifatest.columns[11:14],axis=1,inplace=True)\n",
    "fifatest.drop(fifatest.columns[5:7],axis=1,inplace=True)\n",
    "fifatest.drop(fifatest.columns[3],axis=1,inplace=True)\n"
   ]
  },
  {
   "cell_type": "code",
   "execution_count": 9,
   "metadata": {
    "execution": {
     "iopub.execute_input": "2021-03-11T19:15:30.219185Z",
     "iopub.status.busy": "2021-03-11T19:15:30.218583Z",
     "iopub.status.idle": "2021-03-11T19:15:30.230141Z",
     "shell.execute_reply": "2021-03-11T19:15:30.230610Z"
    },
    "papermill": {
     "duration": 0.031154,
     "end_time": "2021-03-11T19:15:30.230802",
     "exception": false,
     "start_time": "2021-03-11T19:15:30.199648",
     "status": "completed"
    },
    "tags": []
   },
   "outputs": [],
   "source": [
    "fifatest.drop(['team_jersey_number','nation_jersey_number'],axis=1,inplace=True)\n",
    "del fifatest['player_url']\n",
    "del fifatest['contract_valid_until']"
   ]
  },
  {
   "cell_type": "code",
   "execution_count": 10,
   "metadata": {
    "execution": {
     "iopub.execute_input": "2021-03-11T19:15:30.267944Z",
     "iopub.status.busy": "2021-03-11T19:15:30.267301Z",
     "iopub.status.idle": "2021-03-11T19:15:30.294861Z",
     "shell.execute_reply": "2021-03-11T19:15:30.295381Z"
    },
    "papermill": {
     "duration": 0.048348,
     "end_time": "2021-03-11T19:15:30.295573",
     "exception": false,
     "start_time": "2021-03-11T19:15:30.247225",
     "status": "completed"
    },
    "tags": []
   },
   "outputs": [
    {
     "name": "stdout",
     "output_type": "stream",
     "text": [
      "<class 'pandas.core.frame.DataFrame'>\n",
      "RangeIndex: 18278 entries, 0 to 18277\n",
      "Data columns (total 27 columns):\n",
      " #   Column                    Non-Null Count  Dtype  \n",
      "---  ------                    --------------  -----  \n",
      " 0   sofifa_id                 18278 non-null  int64  \n",
      " 1   short_name                18278 non-null  object \n",
      " 2   age                       18278 non-null  int64  \n",
      " 3   weight_kg                 18278 non-null  int64  \n",
      " 4   nationality               18278 non-null  object \n",
      " 5   club                      18278 non-null  object \n",
      " 6   overall                   18278 non-null  int64  \n",
      " 7   player_positions          18278 non-null  object \n",
      " 8   preferred_foot            18278 non-null  object \n",
      " 9   international_reputation  18278 non-null  int64  \n",
      " 10  weak_foot                 18278 non-null  int64  \n",
      " 11  skill_moves               18278 non-null  int64  \n",
      " 12  work_rate                 18278 non-null  object \n",
      " 13  team_position             18038 non-null  object \n",
      " 14  nation_position           1126 non-null   object \n",
      " 15  pace                      16242 non-null  float64\n",
      " 16  shooting                  16242 non-null  float64\n",
      " 17  passing                   16242 non-null  float64\n",
      " 18  dribbling                 16242 non-null  float64\n",
      " 19  defending                 16242 non-null  float64\n",
      " 20  physic                    16242 non-null  float64\n",
      " 21  gk_diving                 2036 non-null   float64\n",
      " 22  gk_handling               2036 non-null   float64\n",
      " 23  gk_kicking                2036 non-null   float64\n",
      " 24  gk_reflexes               2036 non-null   float64\n",
      " 25  gk_speed                  2036 non-null   float64\n",
      " 26  gk_positioning            2036 non-null   float64\n",
      "dtypes: float64(12), int64(7), object(8)\n",
      "memory usage: 3.8+ MB\n"
     ]
    }
   ],
   "source": [
    "fifatestnew=fifatest.copy()\n",
    "fifatestnew.info()"
   ]
  },
  {
   "cell_type": "markdown",
   "metadata": {
    "papermill": {
     "duration": 0.016266,
     "end_time": "2021-03-11T19:15:30.328556",
     "exception": false,
     "start_time": "2021-03-11T19:15:30.312290",
     "status": "completed"
    },
    "tags": []
   },
   "source": [
    "**Handling Missing Values**"
   ]
  },
  {
   "cell_type": "code",
   "execution_count": 11,
   "metadata": {
    "execution": {
     "iopub.execute_input": "2021-03-11T19:15:30.373250Z",
     "iopub.status.busy": "2021-03-11T19:15:30.372660Z",
     "iopub.status.idle": "2021-03-11T19:15:30.379195Z",
     "shell.execute_reply": "2021-03-11T19:15:30.379691Z"
    },
    "papermill": {
     "duration": 0.034814,
     "end_time": "2021-03-11T19:15:30.379859",
     "exception": false,
     "start_time": "2021-03-11T19:15:30.345045",
     "status": "completed"
    },
    "tags": []
   },
   "outputs": [
    {
     "data": {
      "text/plain": [
       "sofifa_id                       0\n",
       "short_name                      0\n",
       "age                             0\n",
       "weight_kg                       0\n",
       "nationality                     0\n",
       "club                            0\n",
       "overall                         0\n",
       "player_positions                0\n",
       "preferred_foot                  0\n",
       "international_reputation        0\n",
       "weak_foot                       0\n",
       "skill_moves                     0\n",
       "work_rate                       0\n",
       "team_position                 240\n",
       "nation_position             17152\n",
       "pace                         2036\n",
       "shooting                     2036\n",
       "passing                      2036\n",
       "dribbling                    2036\n",
       "defending                    2036\n",
       "physic                       2036\n",
       "gk_diving                   16242\n",
       "gk_handling                 16242\n",
       "gk_kicking                  16242\n",
       "gk_reflexes                 16242\n",
       "gk_speed                    16242\n",
       "gk_positioning              16242\n",
       "dtype: int64"
      ]
     },
     "execution_count": 11,
     "metadata": {},
     "output_type": "execute_result"
    }
   ],
   "source": [
    "fifatestnew.isnull().sum()"
   ]
  },
  {
   "cell_type": "code",
   "execution_count": 12,
   "metadata": {
    "execution": {
     "iopub.execute_input": "2021-03-11T19:15:30.417074Z",
     "iopub.status.busy": "2021-03-11T19:15:30.416487Z",
     "iopub.status.idle": "2021-03-11T19:15:30.431188Z",
     "shell.execute_reply": "2021-03-11T19:15:30.431697Z"
    },
    "papermill": {
     "duration": 0.03491,
     "end_time": "2021-03-11T19:15:30.431866",
     "exception": false,
     "start_time": "2021-03-11T19:15:30.396956",
     "status": "completed"
    },
    "tags": []
   },
   "outputs": [],
   "source": [
    "fifatestnew['gk_diving']=fifatestnew.gk_diving.fillna(fifatestnew.gk_diving.mean())\n",
    "fifatestnew['gk_handling']=fifatestnew.gk_handling.fillna(fifatestnew.gk_handling.mean())\n",
    "fifatestnew['gk_kicking']=fifatestnew.gk_kicking.fillna(fifatestnew.gk_kicking.mean())\n",
    "fifatestnew['gk_reflexes']=fifatestnew.gk_reflexes.fillna(fifatestnew.gk_reflexes.mean())\n",
    "fifatestnew['gk_speed']=fifatestnew.gk_speed.fillna(fifatestnew.gk_speed.mean())\n",
    "fifatestnew['gk_positioning']=fifatestnew.gk_positioning.fillna(fifatestnew.gk_positioning.mean())\n",
    "fifatestnew['pace']=fifatestnew.pace.fillna(fifatestnew.pace.mean())\n",
    "fifatestnew['shooting']=fifatestnew.shooting.fillna(fifatestnew.shooting.mean())\n",
    "fifatestnew['passing']=fifatestnew.passing.fillna(fifatestnew.passing.mean())\n",
    "fifatestnew['defending']=fifatestnew.defending.fillna(fifatestnew.defending.mean())\n",
    "fifatestnew['physic']=fifatestnew.physic.fillna(fifatestnew.physic.mean())\n",
    "fifatestnew['dribbling']=fifatestnew.dribbling.fillna(fifatestnew.dribbling.mean())\n"
   ]
  },
  {
   "cell_type": "code",
   "execution_count": 13,
   "metadata": {
    "execution": {
     "iopub.execute_input": "2021-03-11T19:15:30.469114Z",
     "iopub.status.busy": "2021-03-11T19:15:30.468523Z",
     "iopub.status.idle": "2021-03-11T19:15:30.480462Z",
     "shell.execute_reply": "2021-03-11T19:15:30.480994Z"
    },
    "papermill": {
     "duration": 0.03229,
     "end_time": "2021-03-11T19:15:30.481167",
     "exception": false,
     "start_time": "2021-03-11T19:15:30.448877",
     "status": "completed"
    },
    "tags": []
   },
   "outputs": [],
   "source": [
    "fifatestnew['nation_position']=fifatestnew.nation_position.fillna(fifatestnew.nation_position.value_counts().index[0])\n",
    "fifatestnew['team_position']=fifatestnew.team_position.fillna(fifatestnew.team_position.value_counts().index[0])"
   ]
  },
  {
   "cell_type": "code",
   "execution_count": 14,
   "metadata": {
    "execution": {
     "iopub.execute_input": "2021-03-11T19:15:30.518889Z",
     "iopub.status.busy": "2021-03-11T19:15:30.518160Z",
     "iopub.status.idle": "2021-03-11T19:15:30.533080Z",
     "shell.execute_reply": "2021-03-11T19:15:30.533586Z"
    },
    "papermill": {
     "duration": 0.035234,
     "end_time": "2021-03-11T19:15:30.533760",
     "exception": false,
     "start_time": "2021-03-11T19:15:30.498526",
     "status": "completed"
    },
    "tags": []
   },
   "outputs": [
    {
     "data": {
      "text/plain": [
       "sofifa_id                   0\n",
       "short_name                  0\n",
       "age                         0\n",
       "weight_kg                   0\n",
       "nationality                 0\n",
       "club                        0\n",
       "overall                     0\n",
       "player_positions            0\n",
       "preferred_foot              0\n",
       "international_reputation    0\n",
       "weak_foot                   0\n",
       "skill_moves                 0\n",
       "work_rate                   0\n",
       "team_position               0\n",
       "nation_position             0\n",
       "pace                        0\n",
       "shooting                    0\n",
       "passing                     0\n",
       "dribbling                   0\n",
       "defending                   0\n",
       "physic                      0\n",
       "gk_diving                   0\n",
       "gk_handling                 0\n",
       "gk_kicking                  0\n",
       "gk_reflexes                 0\n",
       "gk_speed                    0\n",
       "gk_positioning              0\n",
       "dtype: int64"
      ]
     },
     "execution_count": 14,
     "metadata": {},
     "output_type": "execute_result"
    }
   ],
   "source": [
    "fifatestnew.isnull().sum()"
   ]
  },
  {
   "cell_type": "code",
   "execution_count": 15,
   "metadata": {
    "execution": {
     "iopub.execute_input": "2021-03-11T19:15:30.576437Z",
     "iopub.status.busy": "2021-03-11T19:15:30.575816Z",
     "iopub.status.idle": "2021-03-11T19:15:30.581964Z",
     "shell.execute_reply": "2021-03-11T19:15:30.581270Z"
    },
    "papermill": {
     "duration": 0.03064,
     "end_time": "2021-03-11T19:15:30.582121",
     "exception": false,
     "start_time": "2021-03-11T19:15:30.551481",
     "status": "completed"
    },
    "tags": []
   },
   "outputs": [],
   "source": [
    "fifatestnew.player_positions=pd.Categorical(fifatestnew.player_positions,['CB',\n",
    "'ST',     \n",
    "'CM',     \n",
    "'GK',     \n",
    "'CDM',    \n",
    "'RB',     'LB',   'CAM'    \n",
    "'RM',     \n",
    "'LM',      \n",
    "'LW',      'RW',      \n",
    "'CF',      \n",
    "'LWB',      \n",
    "'RWB'])"
   ]
  },
  {
   "cell_type": "markdown",
   "metadata": {
    "papermill": {
     "duration": 0.017499,
     "end_time": "2021-03-11T19:15:30.617576",
     "exception": false,
     "start_time": "2021-03-11T19:15:30.600077",
     "status": "completed"
    },
    "tags": []
   },
   "source": [
    "> converting player_positions to unique integer values"
   ]
  },
  {
   "cell_type": "code",
   "execution_count": 16,
   "metadata": {
    "execution": {
     "iopub.execute_input": "2021-03-11T19:15:30.658958Z",
     "iopub.status.busy": "2021-03-11T19:15:30.658352Z",
     "iopub.status.idle": "2021-03-11T19:15:30.661415Z",
     "shell.execute_reply": "2021-03-11T19:15:30.660883Z"
    },
    "papermill": {
     "duration": 0.026205,
     "end_time": "2021-03-11T19:15:30.661553",
     "exception": false,
     "start_time": "2021-03-11T19:15:30.635348",
     "status": "completed"
    },
    "tags": []
   },
   "outputs": [],
   "source": [
    "fifatestnew.player_positions=fifatestnew.player_positions.cat.codes"
   ]
  },
  {
   "cell_type": "markdown",
   "metadata": {
    "papermill": {
     "duration": 0.020146,
     "end_time": "2021-03-11T19:15:30.699581",
     "exception": false,
     "start_time": "2021-03-11T19:15:30.679435",
     "status": "completed"
    },
    "tags": []
   },
   "source": [
    "# Model"
   ]
  },
  {
   "cell_type": "code",
   "execution_count": 17,
   "metadata": {
    "execution": {
     "iopub.execute_input": "2021-03-11T19:15:30.738111Z",
     "iopub.status.busy": "2021-03-11T19:15:30.737466Z",
     "iopub.status.idle": "2021-03-11T19:15:30.743441Z",
     "shell.execute_reply": "2021-03-11T19:15:30.743991Z"
    },
    "papermill": {
     "duration": 0.026736,
     "end_time": "2021-03-11T19:15:30.744154",
     "exception": false,
     "start_time": "2021-03-11T19:15:30.717418",
     "status": "completed"
    },
    "tags": []
   },
   "outputs": [],
   "source": [
    "y = fifatestnew.overall\n",
    "feature_columns = ['pace', 'defending', 'passing', 'shooting', 'dribbling', 'player_positions','gk_handling', 'gk_kicking', 'gk_reflexes', 'gk_speed','gk_diving' ,'gk_positioning']\n",
    "X = fifatestnew[feature_columns]\n"
   ]
  },
  {
   "cell_type": "code",
   "execution_count": 18,
   "metadata": {
    "execution": {
     "iopub.execute_input": "2021-03-11T19:15:30.782924Z",
     "iopub.status.busy": "2021-03-11T19:15:30.782270Z",
     "iopub.status.idle": "2021-03-11T19:15:31.140243Z",
     "shell.execute_reply": "2021-03-11T19:15:31.140781Z"
    },
    "papermill": {
     "duration": 0.378937,
     "end_time": "2021-03-11T19:15:31.140954",
     "exception": false,
     "start_time": "2021-03-11T19:15:30.762017",
     "status": "completed"
    },
    "tags": []
   },
   "outputs": [],
   "source": [
    "#Splitting dataset(Random state ensures same split everytime)\n",
    "from sklearn.model_selection import train_test_split\n",
    "train_X, val_X, train_y, val_y = train_test_split(X, y,test_size=0.2, random_state = 0)"
   ]
  },
  {
   "cell_type": "code",
   "execution_count": 19,
   "metadata": {
    "execution": {
     "iopub.execute_input": "2021-03-11T19:15:31.180794Z",
     "iopub.status.busy": "2021-03-11T19:15:31.180164Z",
     "iopub.status.idle": "2021-03-11T19:15:31.486242Z",
     "shell.execute_reply": "2021-03-11T19:15:31.486685Z"
    },
    "papermill": {
     "duration": 0.327403,
     "end_time": "2021-03-11T19:15:31.486873",
     "exception": false,
     "start_time": "2021-03-11T19:15:31.159470",
     "status": "completed"
    },
    "tags": []
   },
   "outputs": [
    {
     "data": {
      "text/plain": [
       "DecisionTreeRegressor(max_leaf_nodes=500, random_state=0)"
      ]
     },
     "execution_count": 19,
     "metadata": {},
     "output_type": "execute_result"
    }
   ],
   "source": [
    "from sklearn.tree import DecisionTreeRegressor\n",
    "model=DecisionTreeRegressor(max_leaf_nodes=500,random_state=0)\n",
    "model.fit(train_X, train_y)"
   ]
  },
  {
   "cell_type": "code",
   "execution_count": 20,
   "metadata": {
    "execution": {
     "iopub.execute_input": "2021-03-11T19:15:31.527211Z",
     "iopub.status.busy": "2021-03-11T19:15:31.526564Z",
     "iopub.status.idle": "2021-03-11T19:15:31.536541Z",
     "shell.execute_reply": "2021-03-11T19:15:31.536992Z"
    },
    "papermill": {
     "duration": 0.031695,
     "end_time": "2021-03-11T19:15:31.537161",
     "exception": false,
     "start_time": "2021-03-11T19:15:31.505466",
     "status": "completed"
    },
    "tags": []
   },
   "outputs": [
    {
     "name": "stdout",
     "output_type": "stream",
     "text": [
      "The predictions are\n",
      "[64.71428571 61.84615385 62.25       63.75       70.87323944 63.84042553\n",
      " 65.28358209 65.93333333 58.6        52.        ]\n"
     ]
    }
   ],
   "source": [
    "print(\"The predictions are\")\n",
    "val_Prediction=model.predict(val_X)\n",
    "print(model.predict(val_X.head(10)))"
   ]
  },
  {
   "cell_type": "markdown",
   "metadata": {
    "papermill": {
     "duration": 0.018425,
     "end_time": "2021-03-11T19:15:31.574436",
     "exception": false,
     "start_time": "2021-03-11T19:15:31.556011",
     "status": "completed"
    },
    "tags": []
   },
   "source": [
    "**Mean Absolute error**"
   ]
  },
  {
   "cell_type": "code",
   "execution_count": 21,
   "metadata": {
    "execution": {
     "iopub.execute_input": "2021-03-11T19:15:31.615767Z",
     "iopub.status.busy": "2021-03-11T19:15:31.615091Z",
     "iopub.status.idle": "2021-03-11T19:15:31.622129Z",
     "shell.execute_reply": "2021-03-11T19:15:31.621056Z"
    },
    "papermill": {
     "duration": 0.029057,
     "end_time": "2021-03-11T19:15:31.622347",
     "exception": false,
     "start_time": "2021-03-11T19:15:31.593290",
     "status": "completed"
    },
    "tags": []
   },
   "outputs": [
    {
     "name": "stdout",
     "output_type": "stream",
     "text": [
      "1.284654045419286\n"
     ]
    }
   ],
   "source": [
    "from sklearn.metrics import mean_absolute_error\n",
    "print(mean_absolute_error(val_y, val_Prediction))"
   ]
  },
  {
   "cell_type": "markdown",
   "metadata": {
    "papermill": {
     "duration": 0.018595,
     "end_time": "2021-03-11T19:15:31.660694",
     "exception": false,
     "start_time": "2021-03-11T19:15:31.642099",
     "status": "completed"
    },
    "tags": []
   },
   "source": [
    "**Creating a function for best MAE value**"
   ]
  },
  {
   "cell_type": "code",
   "execution_count": 22,
   "metadata": {
    "execution": {
     "iopub.execute_input": "2021-03-11T19:15:31.704498Z",
     "iopub.status.busy": "2021-03-11T19:15:31.703524Z",
     "iopub.status.idle": "2021-03-11T19:15:31.711607Z",
     "shell.execute_reply": "2021-03-11T19:15:31.712424Z"
    },
    "papermill": {
     "duration": 0.033027,
     "end_time": "2021-03-11T19:15:31.712703",
     "exception": false,
     "start_time": "2021-03-11T19:15:31.679676",
     "status": "completed"
    },
    "tags": []
   },
   "outputs": [],
   "source": [
    "from sklearn.metrics import mean_absolute_error\n",
    "from sklearn.tree import DecisionTreeRegressor\n",
    "\n",
    "def get_mae(max_leaf_nodes, train_X, val_X, train_y, val_y):\n",
    "    model = DecisionTreeRegressor(max_leaf_nodes=max_leaf_nodes, random_state=0)\n",
    "    model.fit(train_X, train_y)\n",
    "    preds_val = model.predict(val_X)\n",
    "    mae = mean_absolute_error(val_y, preds_val)\n",
    "    return(mae)"
   ]
  },
  {
   "cell_type": "code",
   "execution_count": 23,
   "metadata": {
    "execution": {
     "iopub.execute_input": "2021-03-11T19:15:31.769995Z",
     "iopub.status.busy": "2021-03-11T19:15:31.768716Z",
     "iopub.status.idle": "2021-03-11T19:15:31.980863Z",
     "shell.execute_reply": "2021-03-11T19:15:31.980173Z"
    },
    "papermill": {
     "duration": 0.243971,
     "end_time": "2021-03-11T19:15:31.981005",
     "exception": false,
     "start_time": "2021-03-11T19:15:31.737034",
     "status": "completed"
    },
    "tags": []
   },
   "outputs": [
    {
     "name": "stdout",
     "output_type": "stream",
     "text": [
      "Max leaf nodes: 5  \t\t Mean Absolute Error:  3\n",
      "Max leaf nodes: 50  \t\t Mean Absolute Error:  1\n",
      "Max leaf nodes: 500  \t\t Mean Absolute Error:  1\n",
      "Max leaf nodes: 5000  \t\t Mean Absolute Error:  1\n"
     ]
    }
   ],
   "source": [
    "for max_leaf_nodes in [5, 50, 500, 5000]:\n",
    "    my_mae = get_mae(max_leaf_nodes, train_X, val_X, train_y, val_y)\n",
    "    print(\"Max leaf nodes: %d  \\t\\t Mean Absolute Error:  %d\" %(max_leaf_nodes, my_mae))"
   ]
  }
 ],
 "metadata": {
  "kernelspec": {
   "display_name": "Python 3",
   "language": "python",
   "name": "python3"
  },
  "language_info": {
   "codemirror_mode": {
    "name": "ipython",
    "version": 3
   },
   "file_extension": ".py",
   "mimetype": "text/x-python",
   "name": "python",
   "nbconvert_exporter": "python",
   "pygments_lexer": "ipython3",
   "version": "3.7.9"
  },
  "papermill": {
   "default_parameters": {},
   "duration": 10.110109,
   "end_time": "2021-03-11T19:15:32.612600",
   "environment_variables": {},
   "exception": null,
   "input_path": "__notebook__.ipynb",
   "output_path": "__notebook__.ipynb",
   "parameters": {},
   "start_time": "2021-03-11T19:15:22.502491",
   "version": "2.2.2"
  }
 },
 "nbformat": 4,
 "nbformat_minor": 4
}
